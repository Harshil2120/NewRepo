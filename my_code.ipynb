{
 "cells": [
  {
   "cell_type": "code",
   "execution_count": 16,
   "metadata": {},
   "outputs": [
    {
     "data": {
      "text/plain": [
       "True"
      ]
     },
     "execution_count": 16,
     "metadata": {},
     "output_type": "execute_result"
    }
   ],
   "source": [
    "from os import getenv\n",
    "from dotenv import load_dotenv\n",
    "load_dotenv()"
   ]
  },
  {
   "cell_type": "code",
   "execution_count": 17,
   "metadata": {},
   "outputs": [
    {
     "data": {
      "text/plain": [
       "AIMessage(content=\"Langchain is an open-source, cloud-native, and scalable conversational AI platform developed by the company Langchain. It's designed to enable the creation of conversational AI models that can engage in natural language conversations, similar to human-like interactions.\\n\\nLangchain's primary features include:\\n\\n1. **Conversational AI models**: Langchain allows users to build and train conversational AI models using a variety of natural language processing (NLP) and machine learning (ML) techniques.\\n2. **Cloud-native architecture**: Langchain's platform is designed to be scalable and highly available, making it suitable for large-scale deployments.\\n3. **Multi-language support**: Langchain supports multiple languages, including English, Spanish, French, German, Italian, and many others.\\n4. **Integration with various frameworks**: Langchain integrates with popular frameworks such as TensorFlow, PyTorch, and Hugging Face's Transformers.\\n5. **Automated model deployment**: Langchain provides automated deployment of trained models to various platforms, including cloud services like AWS, Google Cloud, and Azure.\\n\\nLangchain's primary use cases include:\\n\\n1. **Chatbots and virtual assistants**: Langchain can be used to build conversational AI models for chatbots and virtual assistants.\\n2. **Customer service and support**: Langchain can be used to create conversational AI models for customer service and support applications.\\n3. **Language translation**: Langchain can be used to build conversational AI models for language translation applications.\\n4. **Content generation**: Langchain can be used to generate content, such as articles, product descriptions, and social media posts.\\n\\nOverall, Langchain is a powerful platform for building and deploying conversational AI models, and its scalability, flexibility, and ease of use make it an attractive option for developers and organizations looking to create conversational AI solutions.\", additional_kwargs={'refusal': ''}, response_metadata={'token_usage': {'completion_tokens': 367, 'prompt_tokens': 39, 'total_tokens': 406, 'completion_tokens_details': None, 'prompt_tokens_details': None}, 'model_name': 'meta-llama/llama-3.2-1b-instruct', 'system_fingerprint': 'fastcoe', 'finish_reason': 'stop', 'logprobs': None}, id='run-fc903dad-c786-4f11-b372-fa7e1435ea39-0', usage_metadata={'input_tokens': 39, 'output_tokens': 367, 'total_tokens': 406, 'input_token_details': {}, 'output_token_details': {}})"
      ]
     },
     "execution_count": 17,
     "metadata": {},
     "output_type": "execute_result"
    }
   ],
   "source": [
    "from langchain_openai import ChatOpenAI\n",
    "llm = ChatOpenAI(\n",
    "  openai_api_key=getenv(\"OPENROUTER_API_KEY\"),\n",
    "  openai_api_base=getenv(\"OPENROUTER_BASE_URL\"),\n",
    "  model_name=\"meta-llama/llama-3.2-1b-instruct:free\",\n",
    ")\n",
    "\n",
    "from langchain_core.messages import HumanMessage\n",
    "\n",
    "# Create a message\n",
    "msg = HumanMessage(content=\"What is langchain\", name=\"Lance\")\n",
    "\n",
    "# Message list\n",
    "messages = [msg]\n",
    "\n",
    "# Invoke the model with a list of messages \n",
    "llm.invoke(messages)\n"
   ]
  },
  {
   "cell_type": "code",
   "execution_count": 18,
   "metadata": {},
   "outputs": [
    {
     "data": {
      "text/plain": [
       "[{'url': 'https://www.datacamp.com/tutorial/langgraph-tutorial',\n",
       "  'content': 'LangGraph is a library within the LangChain ecosystem designed to tackle these challenges head-on. LangGraph provides a framework for defining, coordinating, and executing multiple LLM agents (or chains) in a structured manner.'},\n",
       " {'url': 'https://medium.com/@cplog/introduction-to-langgraph-a-beginners-guide-14f9be027141',\n",
       "  'content': 'LangGraph is a versatile tool for building complex, stateful applications with LLMs. By understanding its core concepts and working through simple examples, beginners can start to leverage its'},\n",
       " {'url': 'https://academy.langchain.com/courses/intro-to-langgraph',\n",
       "  'content': 'Separate from the LangChain package, LangGraph helps developers add better precision and control into agentic workflows. Lesson 1: Motivation Lesson 2: Simple Graph Lesson 3: LangGraph Studio Lesson 4: Chain Lesson 5: Router Lesson 6: Agent Lesson 7: Agent with Memory Lesson 8: Deployment Lesson 1: State Schema Lesson 2: State Reducers Lesson 3: Multiple Schemas Lesson 1: Streaming Lesson 2: Breakpoints Lesson 3: Editing State and Human Feedback Lesson 4: Dynamic Breakpoints Lesson 1: Parallelization Lesson 2: Sub-graphs Lesson 3: Map-reduce Lesson 4: Research Assistant About this course No. LangGraph is an orchestration framework for complex agentic systems and is more low-level and controllable than LangChain agents. Deploy LangGraph agents at scale with LangGraph Cloud (available for Python).'}]"
      ]
     },
     "execution_count": 18,
     "metadata": {},
     "output_type": "execute_result"
    }
   ],
   "source": [
    "from langchain_community.tools.tavily_search import TavilySearchResults\n",
    "tavily_search = TavilySearchResults(max_results=3,tavily_api_key=getenv(\"TAVILY_API_KEY\"))\n",
    "search_docs = tavily_search.invoke(\"What is LangGraph?\")\n",
    "search_docs"
   ]
  }
 ],
 "metadata": {
  "kernelspec": {
   "display_name": "env",
   "language": "python",
   "name": "python3"
  },
  "language_info": {
   "codemirror_mode": {
    "name": "ipython",
    "version": 3
   },
   "file_extension": ".py",
   "mimetype": "text/x-python",
   "name": "python",
   "nbconvert_exporter": "python",
   "pygments_lexer": "ipython3",
   "version": "3.13.1"
  }
 },
 "nbformat": 4,
 "nbformat_minor": 2
}
